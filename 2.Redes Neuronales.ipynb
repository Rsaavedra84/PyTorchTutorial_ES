{
 "cells": [
  {
   "cell_type": "markdown",
   "metadata": {},
   "source": [
    "# TUTORIAL PYTORCH\n",
    "## Redes Neuronales\n",
    "###### Fuente: [Documentación Oficial de Pytorch](https://pytorch.org/tutorials/)\n",
    "###### Edición y traducción por Cristobal Donoso O. \n",
    "###### Agosto 2018"
   ]
  },
  {
   "cell_type": "markdown",
   "metadata": {},
   "source": [
    "Para construir redes neuronales podemos utilizar el paquete ```torch.nn```. Logicamente, este paquete depende de la clase Autograd; Si aún no haz visto el notebook de autograd [puedes verlo aquí](Autograd.ipynb).<br>La idea consiste en crear modelos mediante la construcción de un **grafo de operaciones** y luego **calcular automaticamente sus gradientes** para ajustar los pesos."
   ]
  },
  {
   "cell_type": "markdown",
   "metadata": {},
   "source": [
    "Considere el siguiente modelo:\n",
    "<img src=\"https://pytorch.org/tutorials/_images/mnist.png\">"
   ]
  },
  {
   "cell_type": "markdown",
   "metadata": {},
   "source": [
    "Esto corresponde al feed-forward de una red [neuronal convolucional](https://www.deeplearningbook.org/contents/convnets.html). Basicamente, mapea cada pixel desde la entrada ```(32x32)``` y realiza convoluciones con el objetivo de extraer caracteristicas más importantes para la clasificación. Finalmente, los datos pasan por tres capas fullyconnected de ```120``` , ```84``` y ```10 neuronas``` que realizarán la clasificación mediante combinaciones lineales y alguna función de activación.<br><br>\n",
    ">En general para entrenar una red neuronal necesitamos:\n",
    "- Definir la red neuronal cuya estructura tiene parametros ajustables (por ej. pesos y bias)\n",
    "- Iterar sobre un dataset de entrada\n",
    "- Procesar la entrada atraves de la red (forward)\n",
    "- Computar la perdida asociada a la clasificación (en aprendizaje supervisado tenemos etiquetas)\n",
    "- Retropropagar el error usando los gradientes\n",
    "- Actualizar los peoss de la red, tipicamente usando: \n",
    "    - ```weight = weight - learning_rate * gradient ```"
   ]
  },
  {
   "cell_type": "markdown",
   "metadata": {},
   "source": [
    "#### Definiendo la red"
   ]
  },
  {
   "cell_type": "code",
   "execution_count": 2,
   "metadata": {},
   "outputs": [],
   "source": [
    "import torch\n",
    "import torch.nn as nn\n",
    "import torch.nn.functional as F"
   ]
  },
  {
   "cell_type": "markdown",
   "metadata": {},
   "source": [
    "La clase ```nn.Module``` contiene funciones basicas para cualquier red neuronal. Permite ademas interactuar con la GPU exportando e importando valores. Todo modelo debe heredar de esta clase"
   ]
  },
  {
   "cell_type": "code",
   "execution_count": 27,
   "metadata": {},
   "outputs": [
    {
     "name": "stdout",
     "output_type": "stream",
     "text": [
      "Net(\n",
      "  (conv1): Conv2d(1, 6, kernel_size=(5, 5), stride=(1, 1))\n",
      "  (conv2): Conv2d(6, 16, kernel_size=(5, 5), stride=(1, 1))\n",
      "  (fc1): Linear(in_features=400, out_features=120, bias=True)\n",
      "  (fc2): Linear(in_features=120, out_features=84, bias=True)\n",
      "  (fc3): Linear(in_features=84, out_features=10, bias=True)\n",
      ")\n"
     ]
    }
   ],
   "source": [
    "class Net(nn.Module):\n",
    "    #Constructor\n",
    "    def __init__(self):\n",
    "        # Primero definimos las variables que conformarán nuestra red.\n",
    "        # Note que éstas son independientes entre ellas - Simplemente estamos declarando.\n",
    "        super(Net, self).__init__()\n",
    "        # 1 canal para la imagen de entrada, \n",
    "        # 6 canales para el output, \n",
    "        # 5x5 convolución cuadrada (basta con colocar solo un numeor)\n",
    "    \n",
    "        # kernel\n",
    "        self.conv1 = nn.Conv2d(1, 6, 5)\n",
    "        self.conv2 = nn.Conv2d(6, 16, 5)\n",
    "        \n",
    "        # Operacione slineales del tipo: y = Wx + b\n",
    "        self.fc1 = nn.Linear(16 * 5 * 5, 120)\n",
    "        self.fc2 = nn.Linear(120, 84)\n",
    "        self.fc3 = nn.Linear(84, 10)\n",
    "\n",
    "    def forward(self, x):\n",
    "        # Max pooling sobre una ventana de (2, 2)\n",
    "        x = F.max_pool2d(F.relu(self.conv1(x)), (2, 2))\n",
    "        # Note que si el tamaño es cuadrado (2,2) = 2. Por lo tanto basta con colocar solo un número\n",
    "        x = F.max_pool2d(F.relu(self.conv2(x)), 2)\n",
    "        # Hacemos una flat para generar la entrada a las fullyconnected\n",
    "        x = x.view(-1, self.num_flat_features(x))\n",
    "        #La salida de cada combinación lineal pasa por una funcion de activación ReLU\n",
    "        x = F.relu(self.fc1(x))\n",
    "        x = F.relu(self.fc2(x))\n",
    "        # La última capa no tiene función de activación\n",
    "        x = self.fc3(x)\n",
    "        return x\n",
    "\n",
    "    def num_flat_features(self, x):\n",
    "        size = x.size()[1:]  # todas las dimensiones con excepeción de la del batch (0)\n",
    "        num_features = 1\n",
    "        for s in size:\n",
    "            num_features *= s\n",
    "        return num_features\n",
    "\n",
    "\n",
    "net = Net()\n",
    "print(net)"
   ]
  },
  {
   "cell_type": "markdown",
   "metadata": {},
   "source": [
    "Solo tienes que definir la función ```forward``` ya que ```backward``` está definida en la clase ```Autograd```. Puedes utilizar cualquier Tensor definido anteriormente.<br>Para ver los parametros de un modelo podemos ejecutar ```net.parameters()```"
   ]
  },
  {
   "cell_type": "code",
   "execution_count": 28,
   "metadata": {},
   "outputs": [
    {
     "name": "stdout",
     "output_type": "stream",
     "text": [
      "10\n",
      "torch.Size([6, 1, 5, 5])\n"
     ]
    }
   ],
   "source": [
    "params = list(net.parameters())\n",
    "print(len(params))\n",
    "print(params[0].size()) # Los pesos de la primera capa convolucional"
   ]
  },
  {
   "cell_type": "markdown",
   "metadata": {},
   "source": [
    "Ahora vamos a generar una entrada aleatoria de ```32x32```"
   ]
  },
  {
   "cell_type": "code",
   "execution_count": 29,
   "metadata": {},
   "outputs": [
    {
     "name": "stdout",
     "output_type": "stream",
     "text": [
      "tensor([[-0.0192, -0.0636,  0.0127,  0.0928,  0.0044,  0.0761,  0.0456,  0.0443,\n",
      "          0.0131, -0.0162]], grad_fn=<ThAddmmBackward>)\n"
     ]
    }
   ],
   "source": [
    "input = torch.randn(1, 1, 32, 32)\n",
    "out = net.forward(input) #Alternativamente puedes colocar net(input) y automaticamente buscará el método forward\n",
    "print(out)"
   ]
  },
  {
   "cell_type": "markdown",
   "metadata": {},
   "source": [
    "Inicializamos los buffers de todos los gradientes con cero y luego retropropagamos con gradientes aleatorios"
   ]
  },
  {
   "cell_type": "code",
   "execution_count": 30,
   "metadata": {},
   "outputs": [],
   "source": [
    "net.zero_grad()\n",
    "out.backward(torch.randn(1, 10))"
   ]
  },
  {
   "cell_type": "markdown",
   "metadata": {},
   "source": [
    "### Calculando la perdida\n",
    "Puedes encontrar funciones de perdida [aquí](https://pytorch.org/docs/stable/nn.html). Una función tipica para computar la perdida es el **Error Medio Cuadrático** (del ingles MSE) y se encuentra en ```nn.MSELoss```. Esta función compara la salida con una etiqueta real "
   ]
  },
  {
   "cell_type": "code",
   "execution_count": 72,
   "metadata": {},
   "outputs": [
    {
     "name": "stdout",
     "output_type": "stream",
     "text": [
      "tensor(0.5347, grad_fn=<MseLossBackward>)\n"
     ]
    }
   ],
   "source": [
    "output = net(input)\n",
    "target = torch.randn(10)  # etiquetas reales aleatorias\n",
    "target = target.view(1, -1)  # modificamos sus dimensiones para que sea de la misma forma que la salida \n",
    "criterion = nn.MSELoss()\n",
    "\n",
    "loss = criterion(output, target)\n",
    "print(loss)"
   ]
  },
  {
   "cell_type": "markdown",
   "metadata": {},
   "source": [
    "Ahora si seguimos la perdida en la dirección del backward, usando el atributo ```.grad_fn```, podras ver un grado de operaciones como este:\n",
    "```\n",
    "input -> conv2d -> relu -> maxpool2d -> conv2d -> relu -> maxpool2d -> view -> linear -> relu \n",
    "      -> linear -> relu -> linear\n",
    "      -> MSELoss\n",
    "      -> loss\n",
    "```\n",
    "Podemos imprimir la estructura del grafo haciendo uso de las Funciones de cada Tensor"
   ]
  },
  {
   "cell_type": "code",
   "execution_count": 76,
   "metadata": {},
   "outputs": [
    {
     "name": "stdout",
     "output_type": "stream",
     "text": [
      "<MseLossBackward object at 0x7fdc09e0a278>\n",
      "<ThAddmmBackward object at 0x7fdc09e0a080>\n",
      "<ExpandBackward object at 0x7fdc09e0a278>\n",
      "<AccumulateGrad object at 0x7fdc09e0a860>\n"
     ]
    }
   ],
   "source": [
    "print(loss.grad_fn)  # MSELoss\n",
    "print(loss.grad_fn.next_functions[0][0])  # Linear\n",
    "print(loss.grad_fn.next_functions[0][0].next_functions[0][0])  # ReLU\n",
    "print(loss.grad_fn.next_functions[0][0].next_functions[0][0].next_functions[0][0])  # Linear"
   ]
  },
  {
   "cell_type": "markdown",
   "metadata": {},
   "source": [
    "Ahora si ejecutamos ```loss.backward()``` el grafo completo será diferenciado respecto a la perdida y todos los Tensores del grafo que tengan ```requires_grad=True``` tendrán su gradiente almacenado en su atributo ```.grad```"
   ]
  },
  {
   "cell_type": "code",
   "execution_count": 77,
   "metadata": {},
   "outputs": [
    {
     "name": "stdout",
     "output_type": "stream",
     "text": [
      "conv1.bias.grad antes del backward\n",
      "tensor([0., 0., 0., 0., 0., 0.])\n",
      "conv1.bias.grad despues del backward\n",
      "tensor([ 0.0005,  0.0149,  0.0007, -0.0224, -0.0040,  0.0020])\n"
     ]
    }
   ],
   "source": [
    "net.zero_grad()     # Dejamos en 0 todos los buffers para los gradientes de los parametros\n",
    "\n",
    "print('conv1.bias.grad antes del backward')\n",
    "print(net.conv1.bias.grad)\n",
    "\n",
    "loss.backward()\n",
    "\n",
    "print('conv1.bias.grad despues del backward')\n",
    "print(net.conv1.bias.grad)"
   ]
  },
  {
   "cell_type": "markdown",
   "metadata": {},
   "source": [
    "#### Actualizando los pesos\n",
    "Una vez que calculamos los gradientes derivando con respecto a la perdida, debemos actualizar los pesos. Utilizando la formula del Gradiente Descendente Estocástico (SGD)\n",
    "\n",
    "    weight = weight - learning_rate * gradient\n",
    "\n",
    "Podriamos computar esto con un ciclo for simple"
   ]
  },
  {
   "cell_type": "code",
   "execution_count": 78,
   "metadata": {},
   "outputs": [],
   "source": [
    "learning_rate = 0.01\n",
    "for f in net.parameters():\n",
    "    f.data.sub_(f.grad.data * learning_rate)"
   ]
  },
  {
   "cell_type": "markdown",
   "metadata": {},
   "source": [
    "Sin embargo, podemos utilizar distintos optimizadores que ya se encuentran implementados en ```torch.optim```"
   ]
  },
  {
   "cell_type": "code",
   "execution_count": 79,
   "metadata": {},
   "outputs": [],
   "source": [
    "import torch.optim as optim\n",
    "# Creamos el Optimizador\n",
    "optimizer = optim.SGD(net.parameters(), lr=0.01)"
   ]
  },
  {
   "cell_type": "markdown",
   "metadata": {},
   "source": [
    "Realizaremos el proceso de entrenamiento nuevamente "
   ]
  },
  {
   "cell_type": "code",
   "execution_count": 81,
   "metadata": {},
   "outputs": [],
   "source": [
    "optimizer.zero_grad()\n",
    "output = net(input)\n",
    "loss = criterion(output, target)\n",
    "loss.backward()\n",
    "# Para hacer la actualización de pesos \n",
    "optimizer.step()"
   ]
  },
  {
   "cell_type": "code",
   "execution_count": null,
   "metadata": {},
   "outputs": [],
   "source": []
  }
 ],
 "metadata": {
  "kernelspec": {
   "display_name": "Python 3",
   "language": "python",
   "name": "python3"
  },
  "language_info": {
   "codemirror_mode": {
    "name": "ipython",
    "version": 3
   },
   "file_extension": ".py",
   "mimetype": "text/x-python",
   "name": "python",
   "nbconvert_exporter": "python",
   "pygments_lexer": "ipython3",
   "version": "3.6.6"
  }
 },
 "nbformat": 4,
 "nbformat_minor": 2
}
